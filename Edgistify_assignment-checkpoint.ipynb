{
 "cells": [
  {
   "cell_type": "markdown",
   "metadata": {},
   "source": [
    "# Q1-> sorting the file"
   ]
  },
  {
   "cell_type": "code",
   "execution_count": 1,
   "metadata": {},
   "outputs": [],
   "source": [
    "import os\n",
    "import numpy as np"
   ]
  },
  {
   "cell_type": "code",
   "execution_count": 2,
   "metadata": {},
   "outputs": [
    {
     "name": "stdout",
     "output_type": "stream",
     "text": [
      "['06-Pig-01-Intro (1).pdf', '100mesh.csv', 'Mall_Customers.csv', 'MapReduce_New.pptx', 'crime.csv', 'crimes.csv', 'customer-segmentation-tutorial-in-python.zip', 'distplot.png', 'distplot_fare.png', 'dw613_course_guide_v1_Full biginsght foundation.pdf', 'dw613_course_guide_v2_foundation_part2.pdf', 'google-play-store-apps.zip', 'heart-disease-uci.zip', 'heart.csv', 'housing', 'installing.pdf', 'ppthivecommands.pptx', 'recorded-crime-data-at-police-force-area-level.zip', 'scatterplot.png', 'synchrotron-data-set.zip', 'titanic', 'titanic_file.py', 'world-happiness-report-2019.zip']\n"
     ]
    }
   ],
   "source": [
    "#list of filenames\n",
    "my_file_list= [] \n",
    "# extracting filename \n",
    "dir_file = os.listdir(\"F:/big data\") \n",
    "for files in dir_file:\n",
    "       my_file_list.append(files)\n",
    "my_file_list.sort() \n",
    "print(my_file_list)"
   ]
  },
  {
   "cell_type": "markdown",
   "metadata": {},
   "source": [
    "# Q3-> Getting the summary ( image processing)"
   ]
  },
  {
   "cell_type": "code",
   "execution_count": 9,
   "metadata": {},
   "outputs": [
    {
     "name": "stdout",
     "output_type": "stream",
     "text": [
      "Requirement already satisfied: newspaper3k in c:\\users\\vansh\\anaconda3\\lib\\site-packages (0.2.8)\n",
      "Requirement already satisfied: feedfinder2>=0.0.4 in c:\\users\\vansh\\anaconda3\\lib\\site-packages (from newspaper3k) (0.0.4)\n",
      "Requirement already satisfied: cssselect>=0.9.2 in c:\\users\\vansh\\anaconda3\\lib\\site-packages (from newspaper3k) (1.1.0)\n",
      "Requirement already satisfied: beautifulsoup4>=4.4.1 in c:\\users\\vansh\\anaconda3\\lib\\site-packages (from newspaper3k) (4.6.0)\n",
      "Requirement already satisfied: PyYAML>=3.11 in c:\\users\\vansh\\anaconda3\\lib\\site-packages (from newspaper3k) (3.12)\n",
      "Requirement already satisfied: jieba3k>=0.35.1 in c:\\users\\vansh\\anaconda3\\lib\\site-packages (from newspaper3k) (0.35.1)\n",
      "Requirement already satisfied: feedparser>=5.2.1 in c:\\users\\vansh\\anaconda3\\lib\\site-packages (from newspaper3k) (5.2.1)\n",
      "Requirement already satisfied: Pillow>=3.3.0 in c:\\users\\vansh\\anaconda3\\lib\\site-packages (from newspaper3k) (5.1.0)\n",
      "Requirement already satisfied: tinysegmenter==0.3 in c:\\users\\vansh\\anaconda3\\lib\\site-packages (from newspaper3k) (0.3)\n",
      "Requirement already satisfied: python-dateutil>=2.5.3 in c:\\users\\vansh\\anaconda3\\lib\\site-packages (from newspaper3k) (2.7.3)\n",
      "Requirement already satisfied: lxml>=3.6.0 in c:\\users\\vansh\\anaconda3\\lib\\site-packages (from newspaper3k) (4.2.1)\n",
      "Requirement already satisfied: requests>=2.10.0 in c:\\users\\vansh\\anaconda3\\lib\\site-packages (from newspaper3k) (2.18.4)\n",
      "Requirement already satisfied: tldextract>=2.0.1 in c:\\users\\vansh\\anaconda3\\lib\\site-packages (from newspaper3k) (2.2.3)\n",
      "Requirement already satisfied: nltk>=3.2.1 in c:\\users\\vansh\\anaconda3\\lib\\site-packages (from newspaper3k) (3.3)\n",
      "Requirement already satisfied: six in c:\\users\\vansh\\anaconda3\\lib\\site-packages (from feedfinder2>=0.0.4->newspaper3k) (1.11.0)\n",
      "Requirement already satisfied: chardet<3.1.0,>=3.0.2 in c:\\users\\vansh\\anaconda3\\lib\\site-packages (from requests>=2.10.0->newspaper3k) (3.0.4)\n",
      "Requirement already satisfied: idna<2.7,>=2.5 in c:\\users\\vansh\\anaconda3\\lib\\site-packages (from requests>=2.10.0->newspaper3k) (2.6)\n",
      "Requirement already satisfied: urllib3<1.23,>=1.21.1 in c:\\users\\vansh\\anaconda3\\lib\\site-packages (from requests>=2.10.0->newspaper3k) (1.22)\n",
      "Requirement already satisfied: certifi>=2017.4.17 in c:\\users\\vansh\\anaconda3\\lib\\site-packages (from requests>=2.10.0->newspaper3k) (2018.4.16)\n",
      "Requirement already satisfied: requests-file>=1.4 in c:\\users\\vansh\\anaconda3\\lib\\site-packages (from tldextract>=2.0.1->newspaper3k) (1.5.1)\n"
     ]
    },
    {
     "name": "stderr",
     "output_type": "stream",
     "text": [
      "distributed 1.21.8 requires msgpack, which is not installed.\n",
      "You are using pip version 10.0.1, however version 20.2.1 is available.\n",
      "You should consider upgrading via the 'python -m pip install --upgrade pip' command.\n"
     ]
    },
    {
     "name": "stdout",
     "output_type": "stream",
     "text": [
      "Requirement already satisfied: nltk in c:\\users\\vansh\\anaconda3\\lib\\site-packages (3.3)\n",
      "Requirement already satisfied: six in c:\\users\\vansh\\anaconda3\\lib\\site-packages (from nltk) (1.11.0)\n"
     ]
    },
    {
     "name": "stderr",
     "output_type": "stream",
     "text": [
      "distributed 1.21.8 requires msgpack, which is not installed.\n",
      "You are using pip version 10.0.1, however version 20.2.1 is available.\n",
      "You should consider upgrading via the 'python -m pip install --upgrade pip' command.\n"
     ]
    }
   ],
   "source": [
    "!pip install newspaper3k\n",
    "!pip install nltk\n",
    "# downloads some important packages"
   ]
  },
  {
   "cell_type": "code",
   "execution_count": 28,
   "metadata": {},
   "outputs": [],
   "source": [
    "from newspaper import Article\n",
    "import nltk\n",
    "#import packages\n",
    "url='https://www.carandbike.com/news/delhi-govt-announces-benefits-of-up-to-rs-1-5-lakh-on-evs-waivers-on-loan-interest-and-registration-fees-2275946?pfrom=home-topstories'\n",
    "art=Article(url)"
   ]
  },
  {
   "cell_type": "code",
   "execution_count": 29,
   "metadata": {},
   "outputs": [
    {
     "name": "stdout",
     "output_type": "stream",
     "text": [
      "[nltk_data] Downloading package punkt to\n",
      "[nltk_data]     C:\\Users\\VANSH\\AppData\\Roaming\\nltk_data...\n",
      "[nltk_data]   Package punkt is already up-to-date!\n"
     ]
    }
   ],
   "source": [
    "# do NLP\n",
    "art.download()\n",
    "art.parse()\n",
    "nltk.download('punkt')\n",
    "art.nlp()"
   ]
  },
  {
   "cell_type": "code",
   "execution_count": 30,
   "metadata": {},
   "outputs": [
    {
     "data": {
      "text/plain": [
       "['Shubham Parashar']"
      ]
     },
     "execution_count": 30,
     "metadata": {},
     "output_type": "execute_result"
    }
   ],
   "source": [
    "art.authors\n",
    "# Author name of article"
   ]
  },
  {
   "cell_type": "code",
   "execution_count": 31,
   "metadata": {},
   "outputs": [],
   "source": [
    "art.publish_date\n",
    "# Date of publication"
   ]
  },
  {
   "cell_type": "code",
   "execution_count": 32,
   "metadata": {},
   "outputs": [
    {
     "data": {
      "text/plain": [
       "'https://c.ndtvimg.com/2020-06/uvjhg24c_electric-cars_625x300_05_June_20.jpg'"
      ]
     },
     "execution_count": 32,
     "metadata": {},
     "output_type": "execute_result"
    }
   ],
   "source": [
    "art.top_image\n",
    "# top image of articlr"
   ]
  },
  {
   "cell_type": "code",
   "execution_count": 33,
   "metadata": {},
   "outputs": [
    {
     "name": "stdout",
     "output_type": "stream",
     "text": [
      "Delhi Chief Minister, Arvind Kejriwal has announced a new electric vehicle (EV) policy today in a press conference. In a bid to curb the air pollution problem in the national capital, the Delhi government is planning to facilitate faster adoption of EVs along with targeting registering 5 lakh EVs in Delhi by calendar year 2024. Kejriwal also said that the new policy will help in generating employment in Delhi (in terms of last mile connectivity options, financing and charging infrastructure), which has taken a severe hit after the coronavirus crisis.\n",
      "\n",
      "Categories Incentives Electric Passenger Vehicle ₹ 1,50,000 Electric Commercial Vehicle ₹ 30,000 Electric Rickshaw ₹ 30,000 Electric Goods Carrier ₹ 30,000\n",
      "\n",
      "Also Read: Hero Electric Is The Market Leader For High-Speed Electric Two-Wheelers In First Four Months Of FY'21\n",
      "\n",
      "Delhi Government will offer an incentive of ₹ 30,000 on electric commercial vehicles.\n",
      "\n",
      "By the means of incentives, the government is aiming to take the EV registration share to 25 per cent of the total vehicle registration by 2024, from 0.2 per cent at present. The government is offering incentives of up to ₹ 30,000 on electric two-wheelers, e-rickshaws and electric goods carriers and of up to ₹ 1.5 lakh on electric passenger vehicles. These incentives will be offered in addition to the incentives offered by the central government under the FAME II scheme. Moreover, the state government is also giving an interest waiver on loans on electric commercial vehicles, along with a common waiver on registration fee across segments, for the next three years.\n",
      "\n",
      "Speaking about the EV Policy, Naveen Munjal, Managing Director of Hero Electric said, \"I would like to congratulate the Delhi government on launching the new electric vehicle policy that will go a long way in boosting Delhi's economy, creating jobs and reducing air pollution in the national capital. The incentives declared under this policy will be beneficial to the customers and will certainly help Delhi achieve its goal of electrification of vehicles. I would like to express my gratitude to the CM, Arvind Kejriwal and his team for his vision and for this progressive policy and hope that it will inspire other states in India to adopt similar measures.\"\n",
      "\n",
      "Saurav Kumar, CEO and Founder, Euler Motors, \"The new electric vehicle policy by the Delhi Government is a welcome step that will accelerate EV transition across segments. It is a holistic policy that addresses core EV challenges of subsidizing cost differences with respect to Internal Combustion Engine (ICE) vehicles, financial incentives on loans, creation of charging stations and skill creations. Covid-19 gave us a rare glimpse into clear sky and low AQI air to breathe. We believe that accelerating Electric Vehicles will bring health, geo-political and economic benefits to India.\" Euler Motors is a Delhi-based EV Start-up, which already has over 200 light commercial electric vehicles deployed in the NCR for last mile delivery services.\n",
      "\n",
      "Also Read: Evoke 6061 Electric Power Cruiser Promises 470 km Range\n",
      "\n",
      "The government is also planning to set up 200 electric chargers within a year.\n",
      "\n",
      "The benefits are not only limited to incentives, but the government is also planning to set up a robust charging infrastructure in the city to deal with the problem of range anxiety. It will be setting up 200 charging infrastructure in Delhi within a year along with offering a 100 per cent subsidy on charging equipment of up to ₹ 6,000 per unit for 30,000 chargers.\n",
      "\n",
      "For the latest auto news and reviews, follow carandbike on Twitter, Facebook, and subscribe to our YouTube channel.\n"
     ]
    }
   ],
   "source": [
    "print(art.text)"
   ]
  },
  {
   "cell_type": "code",
   "execution_count": 34,
   "metadata": {},
   "outputs": [
    {
     "name": "stdout",
     "output_type": "stream",
     "text": [
      "Delhi Chief Minister, Arvind Kejriwal has announced a new electric vehicle (EV) policy today in a press conference.\n",
      "Categories Incentives Electric Passenger Vehicle ₹ 1,50,000 Electric Commercial Vehicle ₹ 30,000 Electric Rickshaw ₹ 30,000 Electric Goods Carrier ₹ 30,000Also Read: Hero Electric Is The Market Leader For High-Speed Electric Two-Wheelers In First Four Months Of FY'21Delhi Government will offer an incentive of ₹ 30,000 on electric commercial vehicles.\n",
      "The government is offering incentives of up to ₹ 30,000 on electric two-wheelers, e-rickshaws and electric goods carriers and of up to ₹ 1.5 lakh on electric passenger vehicles.\n",
      "Moreover, the state government is also giving an interest waiver on loans on electric commercial vehicles, along with a common waiver on registration fee across segments, for the next three years.\n",
      "We believe that accelerating Electric Vehicles will bring health, geo-political and economic benefits to India.\"\n"
     ]
    }
   ],
   "source": [
    "print(art.summary)\n",
    "# Summary of article"
   ]
  }
 ],
 "metadata": {
  "kernelspec": {
   "display_name": "Python 3",
   "language": "python",
   "name": "python3"
  },
  "language_info": {
   "codemirror_mode": {
    "name": "ipython",
    "version": 3
   },
   "file_extension": ".py",
   "mimetype": "text/x-python",
   "name": "python",
   "nbconvert_exporter": "python",
   "pygments_lexer": "ipython3",
   "version": "3.6.5"
  }
 },
 "nbformat": 4,
 "nbformat_minor": 2
}
